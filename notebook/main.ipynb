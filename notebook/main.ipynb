{
  "cells": [
    {
      "cell_type": "code",
      "execution_count": 1,
      "metadata": {
        "colab": {
          "base_uri": "https://localhost:8080/"
        },
        "id": "0jY7ggRLWJDV",
        "outputId": "271d52fd-060b-4c53-961c-afac2cd033c6"
      },
      "outputs": [],
      "source": [
        "try:\n",
        "    import google.colab\n",
        "    on_colab = True\n",
        "\n",
        "    !gdown --id 1plmOCxV7HpXxqzW9b76jqeS2F96d-gX0 -O depth.zip\n",
        "    !unzip depth.zip -d .\n",
        "\n",
        "    !gdown --id 1-ch7BgX9oDCbk3LXDkKYve5mwFOp4zlX -O images.zip\n",
        "    !unzip images.zip -d ./tmasks\n",
        "\n",
        "except ImportError:\n",
        "    on_colab = False"
      ]
    },
    {
      "cell_type": "code",
      "execution_count": 2,
      "metadata": {
        "colab": {
          "base_uri": "https://localhost:8080/"
        },
        "id": "xQc1oLNoYAvL",
        "outputId": "8b96c118-33e4-48fc-9814-3a43ef023dd7"
      },
      "outputs": [],
      "source": [
        "if on_colab:\n",
        "    !git clone https://github.com/hamidrezafahimi/depth_pattern_analysis.git"
      ]
    },
    {
      "cell_type": "code",
      "execution_count": 2,
      "metadata": {
        "id": "HNiG95UHSHC1"
      },
      "outputs": [],
      "source": [
        "on_colab = False"
      ]
    },
    {
      "cell_type": "code",
      "execution_count": 3,
      "metadata": {
        "id": "DCUVVgq2hIz1"
      },
      "outputs": [],
      "source": [
        "import os\n",
        "import sys\n",
        "from torchvision import transforms\n",
        "\n",
        "if on_colab:\n",
        "    sys.path.append('/content/depth_pattern_analysis/train')\n",
        "    imgdir = '/content/depth'\n",
        "    patdir = '/content/tmasks'\n",
        "    chdir = '/content/checkpoints'\n",
        "    os.makedirs(\"/content/output\", exist_ok=True)  # Creates the folder if it doesn't exist\n",
        "    outputdir = \"/content/output/\"\n",
        "else:\n",
        "    sys.path.append('../train')\n",
        "    imgdir = '../data/depth'\n",
        "    patdir = '../data/tmasks'\n",
        "    chdir = '../data/checkpoints'\n",
        "    outputdir = \"../data/output/\"\n",
        "\n",
        "# Optionally, additional transforms (e.g., normalization) can be added\n",
        "transform = transforms.Compose([\n",
        "    transforms.ToTensor(),\n",
        "    # transforms.Normalize(mean, std)\n",
        "])\n",
        "\n",
        "from temp1 import *\n",
        "# Create model and dataloader for training\n",
        "model, dataloader = create_model(imgdir, patdir, batch_size=4, transform=transform)\n"
      ]
    },
    {
      "cell_type": "code",
      "execution_count": null,
      "metadata": {
        "colab": {
          "base_uri": "https://localhost:8080/"
        },
        "id": "eq4CmirRzNp4",
        "outputId": "7e11ff7f-2282-4bfc-ec87-d7f24fb68341"
      },
      "outputs": [],
      "source": [
        "# Train the model (update hyperparameters as needed)\n",
        "train_model(model, dataloader, epochs=20, lr=1e-4, device='cuda', checkpoint_interval=5, checkpoint_dir=chdir)"
      ]
    },
    {
      "cell_type": "code",
      "execution_count": null,
      "metadata": {
        "colab": {
          "base_uri": "https://localhost:8080/"
        },
        "id": "6HSnmYx-JF7d",
        "outputId": "cbb51e9e-89a0-4ccf-a088-96b72f258f1b"
      },
      "outputs": [],
      "source": [
        "# Paths (update these with your own file paths)\n",
        "model_checkpoint = './checkpoints/checkpoint_epoch_20.pth'  # path to the trained model checkpoint\n",
        "input_image_file = './depth/00000001.jpg'         # a single depth image file\n",
        "template_mask_file = './tmasks/00000001.jpg'       # corresponding template mask file\n",
        "output_directory = './output'\n",
        "\n",
        "device = 'cuda' if torch.cuda.is_available() else 'cpu'\n",
        "\n",
        "evaluate_model(model_checkpoint, input_image_file, template_mask_file, output_directory, device=device)"
      ]
    }
  ],
  "metadata": {
    "accelerator": "GPU",
    "colab": {
      "gpuType": "T4",
      "provenance": []
    },
    "kernelspec": {
      "display_name": "Python 3",
      "name": "python3"
    },
    "language_info": {
      "codemirror_mode": {
        "name": "ipython",
        "version": 3
      },
      "file_extension": ".py",
      "mimetype": "text/x-python",
      "name": "python",
      "nbconvert_exporter": "python",
      "pygments_lexer": "ipython3",
      "version": "3.7.13"
    }
  },
  "nbformat": 4,
  "nbformat_minor": 0
}
